{
  "nbformat": 4,
  "nbformat_minor": 0,
  "metadata": {
    "colab": {
      "name": "sarcasm-e2e.ipynb",
      "provenance": [],
      "collapsed_sections": []
    },
    "kernelspec": {
      "name": "python3",
      "display_name": "Python 3"
    },
    "language_info": {
      "name": "python"
    }
  },
  "cells": [
    {
      "cell_type": "code",
      "metadata": {
        "colab": {
          "base_uri": "https://localhost:8080/"
        },
        "id": "KUe1ycYsnkEi",
        "outputId": "8f5795d9-e2b8-4756-c716-c2e898c94477"
      },
      "source": [
        "!pwd"
      ],
      "execution_count": 1,
      "outputs": [
        {
          "output_type": "stream",
          "name": "stdout",
          "text": [
            "/content\n"
          ]
        }
      ]
    },
    {
      "cell_type": "code",
      "metadata": {
        "id": "8oYdvHNapmSM",
        "colab": {
          "base_uri": "https://localhost:8080/"
        },
        "outputId": "ad91c89b-a5cc-4b84-a3d1-bda0916abc1d"
      },
      "source": [
        "import tensorflow as tf\n",
        "import pandas as pd\n",
        "import numpy as np\n",
        "from nltk.tokenize import word_tokenize\n",
        "from nltk.corpus import stopwords\n",
        "import string \n",
        "import re\n",
        "import nltk\n",
        "\n",
        "nltk.download('stopwords')\n",
        "nltk.download('punkt')"
      ],
      "execution_count": 126,
      "outputs": [
        {
          "output_type": "stream",
          "name": "stdout",
          "text": [
            "[nltk_data] Downloading package stopwords to /root/nltk_data...\n",
            "[nltk_data]   Package stopwords is already up-to-date!\n",
            "[nltk_data] Downloading package punkt to /root/nltk_data...\n",
            "[nltk_data]   Package punkt is already up-to-date!\n"
          ]
        },
        {
          "output_type": "execute_result",
          "data": {
            "text/plain": [
              "True"
            ]
          },
          "metadata": {},
          "execution_count": 126
        }
      ]
    },
    {
      "cell_type": "code",
      "metadata": {
        "id": "hmxUhgIrp7Ym"
      },
      "source": [
        "df1 = pd.read_json(\"/content/Sarcasm_Headlines_Dataset.json\",lines=True)\n",
        "df2 = pd.read_json(\"/content/Sarcasm_Headlines_Dataset_v2.json\",lines=True)\n"
      ],
      "execution_count": 127,
      "outputs": []
    },
    {
      "cell_type": "code",
      "metadata": {
        "colab": {
          "base_uri": "https://localhost:8080/"
        },
        "id": "ctpv7h8XqNRx",
        "outputId": "6c7caec8-884c-4514-f8e3-4ca2a71ba5cc"
      },
      "source": [
        "df1.count()\n"
      ],
      "execution_count": 128,
      "outputs": [
        {
          "output_type": "execute_result",
          "data": {
            "text/plain": [
              "article_link    26709\n",
              "headline        26709\n",
              "is_sarcastic    26709\n",
              "dtype: int64"
            ]
          },
          "metadata": {},
          "execution_count": 128
        }
      ]
    },
    {
      "cell_type": "code",
      "metadata": {
        "colab": {
          "base_uri": "https://localhost:8080/"
        },
        "id": "lyJU063-sJxI",
        "outputId": "dcb63c6e-653a-4546-e387-2ad349b379a0"
      },
      "source": [
        "df2.count()"
      ],
      "execution_count": 129,
      "outputs": [
        {
          "output_type": "execute_result",
          "data": {
            "text/plain": [
              "is_sarcastic    28619\n",
              "headline        28619\n",
              "article_link    28619\n",
              "dtype: int64"
            ]
          },
          "metadata": {},
          "execution_count": 129
        }
      ]
    },
    {
      "cell_type": "code",
      "metadata": {
        "colab": {
          "base_uri": "https://localhost:8080/"
        },
        "id": "8YLJqAtgpH3Q",
        "outputId": "cf4e41d8-000d-4d48-a320-70e69aaa56e4"
      },
      "source": [
        "df = pd.concat([data1,data2])\n",
        "df.count()"
      ],
      "execution_count": 130,
      "outputs": [
        {
          "output_type": "execute_result",
          "data": {
            "text/plain": [
              "article_link    55328\n",
              "headline        55328\n",
              "is_sarcastic    55328\n",
              "dtype: int64"
            ]
          },
          "metadata": {},
          "execution_count": 130
        }
      ]
    },
    {
      "cell_type": "code",
      "metadata": {
        "id": "gghaoM_SsNp0"
      },
      "source": [
        "df = df.drop_duplicates().reset_index(drop=True)"
      ],
      "execution_count": 131,
      "outputs": []
    },
    {
      "cell_type": "code",
      "metadata": {
        "colab": {
          "base_uri": "https://localhost:8080/"
        },
        "id": "Na1inquN2mUY",
        "outputId": "6ebad9bf-c3cb-4c38-e98d-0c21d9afd6ca"
      },
      "source": [
        "df.count()"
      ],
      "execution_count": 132,
      "outputs": [
        {
          "output_type": "execute_result",
          "data": {
            "text/plain": [
              "article_link    28617\n",
              "headline        28617\n",
              "is_sarcastic    28617\n",
              "dtype: int64"
            ]
          },
          "metadata": {},
          "execution_count": 132
        }
      ]
    },
    {
      "cell_type": "code",
      "metadata": {
        "colab": {
          "base_uri": "https://localhost:8080/",
          "height": 204
        },
        "id": "RUFmKu_w2v_6",
        "outputId": "9a8c5018-73b0-4dde-dcf7-dd3470982cb2"
      },
      "source": [
        "df.head()"
      ],
      "execution_count": 133,
      "outputs": [
        {
          "output_type": "execute_result",
          "data": {
            "text/html": [
              "<div>\n",
              "<style scoped>\n",
              "    .dataframe tbody tr th:only-of-type {\n",
              "        vertical-align: middle;\n",
              "    }\n",
              "\n",
              "    .dataframe tbody tr th {\n",
              "        vertical-align: top;\n",
              "    }\n",
              "\n",
              "    .dataframe thead th {\n",
              "        text-align: right;\n",
              "    }\n",
              "</style>\n",
              "<table border=\"1\" class=\"dataframe\">\n",
              "  <thead>\n",
              "    <tr style=\"text-align: right;\">\n",
              "      <th></th>\n",
              "      <th>article_link</th>\n",
              "      <th>headline</th>\n",
              "      <th>is_sarcastic</th>\n",
              "    </tr>\n",
              "  </thead>\n",
              "  <tbody>\n",
              "    <tr>\n",
              "      <th>0</th>\n",
              "      <td>https://www.huffingtonpost.com/entry/versace-b...</td>\n",
              "      <td>former versace store clerk sues over secret 'b...</td>\n",
              "      <td>0</td>\n",
              "    </tr>\n",
              "    <tr>\n",
              "      <th>1</th>\n",
              "      <td>https://www.huffingtonpost.com/entry/roseanne-...</td>\n",
              "      <td>the 'roseanne' revival catches up to our thorn...</td>\n",
              "      <td>0</td>\n",
              "    </tr>\n",
              "    <tr>\n",
              "      <th>2</th>\n",
              "      <td>https://local.theonion.com/mom-starting-to-fea...</td>\n",
              "      <td>mom starting to fear son's web series closest ...</td>\n",
              "      <td>1</td>\n",
              "    </tr>\n",
              "    <tr>\n",
              "      <th>3</th>\n",
              "      <td>https://politics.theonion.com/boehner-just-wan...</td>\n",
              "      <td>boehner just wants wife to listen, not come up...</td>\n",
              "      <td>1</td>\n",
              "    </tr>\n",
              "    <tr>\n",
              "      <th>4</th>\n",
              "      <td>https://www.huffingtonpost.com/entry/jk-rowlin...</td>\n",
              "      <td>j.k. rowling wishes snape happy birthday in th...</td>\n",
              "      <td>0</td>\n",
              "    </tr>\n",
              "  </tbody>\n",
              "</table>\n",
              "</div>"
            ],
            "text/plain": [
              "                                        article_link  ... is_sarcastic\n",
              "0  https://www.huffingtonpost.com/entry/versace-b...  ...            0\n",
              "1  https://www.huffingtonpost.com/entry/roseanne-...  ...            0\n",
              "2  https://local.theonion.com/mom-starting-to-fea...  ...            1\n",
              "3  https://politics.theonion.com/boehner-just-wan...  ...            1\n",
              "4  https://www.huffingtonpost.com/entry/jk-rowlin...  ...            0\n",
              "\n",
              "[5 rows x 3 columns]"
            ]
          },
          "metadata": {},
          "execution_count": 133
        }
      ]
    },
    {
      "cell_type": "code",
      "metadata": {
        "id": "Op55EoIasT99"
      },
      "source": [
        "def clean_text(text):\n",
        "\n",
        "  text = text.lower()\n",
        "\n",
        "  #pattern of link\n",
        "  pattern = re.compile('https?://(?:[a-zA-Z]|[0-9]|[$-_@.&+]|[!*\\(\\),]|(?:%[0-9a-fA-F][0-9a-fA-F]))+')\n",
        "  text = pattern.sub('', text) #replacing link with whitespace\n",
        "  # text = \" \".join(filter(lambda x:x[0]!='@', text.split())) #remove handles like twitter\n",
        "  emoji = re.compile(\"[\"\n",
        "                           u\"\\U0001F600-\\U0001FFFF\"  # emoji, symbols, flags\n",
        "                           u\"\\U0001F300-\\U0001F5FF\"  \n",
        "                           u\"\\U0001F680-\\U0001F6FF\"  \n",
        "                           u\"\\U0001F1E0-\\U0001F1FF\"  \n",
        "                           u\"\\U00002702-\\U000027B0\"\n",
        "                           u\"\\U000024C2-\\U0001F251\"\n",
        "                           \"]+\", flags=re.UNICODE)\n",
        "  text = emoji.sub('',text)\n",
        "  text = re.sub(r\"[,.\\\"\\'!@#$%^&*(){}?/;`~:<>+=-]\", \"\", text) #additional special characters\n",
        "  return text"
      ],
      "execution_count": 134,
      "outputs": []
    },
    {
      "cell_type": "code",
      "metadata": {
        "id": "yF2epBwepEua"
      },
      "source": [
        "def token_word(dframe):\n",
        "\n",
        "  head_line = list() #new list\n",
        "  lines = dframe['headline'].values.tolist() #df values to list\n",
        "\n",
        "  for line in lines:\n",
        "    line = clean_text(line) #passing line to fxn\n",
        "    tokenize = word_tokenize(line)\n",
        "    pure_words = [word for word in tokenize if word.isalpha()]\n",
        "    stop_words = set(stopwords.words(\"english\"))\n",
        "    filtered_words = [ word for word in pure_words if not word in stop_words]\n",
        "    head_line.append(filtered_words)\n",
        "\n",
        "  return head_line"
      ],
      "execution_count": 135,
      "outputs": []
    },
    {
      "cell_type": "code",
      "metadata": {
        "colab": {
          "base_uri": "https://localhost:8080/"
        },
        "id": "GRliWATysZEg",
        "outputId": "949980a2-3330-485f-e257-bd8ff94ddf4c"
      },
      "source": [
        "head_lines = token_word(df)\n",
        "head_lines[:5]"
      ],
      "execution_count": 136,
      "outputs": [
        {
          "output_type": "execute_result",
          "data": {
            "text/plain": [
              "[['former',\n",
              "  'versace',\n",
              "  'store',\n",
              "  'clerk',\n",
              "  'sues',\n",
              "  'secret',\n",
              "  'black',\n",
              "  'code',\n",
              "  'minority',\n",
              "  'shoppers'],\n",
              " ['roseanne',\n",
              "  'revival',\n",
              "  'catches',\n",
              "  'thorny',\n",
              "  'political',\n",
              "  'mood',\n",
              "  'better',\n",
              "  'worse'],\n",
              " ['mom',\n",
              "  'starting',\n",
              "  'fear',\n",
              "  'sons',\n",
              "  'web',\n",
              "  'series',\n",
              "  'closest',\n",
              "  'thing',\n",
              "  'grandchild'],\n",
              " ['boehner',\n",
              "  'wants',\n",
              "  'wife',\n",
              "  'listen',\n",
              "  'come',\n",
              "  'alternative',\n",
              "  'debtreduction',\n",
              "  'ideas'],\n",
              " ['jk', 'rowling', 'wishes', 'snape', 'happy', 'birthday', 'magical', 'way']]"
            ]
          },
          "metadata": {},
          "execution_count": 136
        }
      ]
    },
    {
      "cell_type": "code",
      "metadata": {
        "id": "LLOIXRWksfTo",
        "colab": {
          "base_uri": "https://localhost:8080/"
        },
        "outputId": "a2d7baa1-cff7-4b39-b9b5-8c1edeb853dc"
      },
      "source": [
        "tokenizer_obj = tf.keras.preprocessing.text.Tokenizer()\n",
        "tokenizer_obj.fit_on_texts(head_lines) #firring and counting word\n",
        "word_index = tokenizer_obj.word_index\n",
        "print(f'Unique words ', len(word_index))"
      ],
      "execution_count": 137,
      "outputs": [
        {
          "output_type": "stream",
          "name": "stdout",
          "text": [
            "Unique words  28565\n"
          ]
        }
      ]
    },
    {
      "cell_type": "code",
      "metadata": {
        "id": "hkZTvt2RsrtD"
      },
      "source": [
        "sequences = tokenizer_obj.texts_to_sequences(head_lines)\n",
        "lines_pad = tf.keras.preprocessing.sequence.pad_sequences(sequences=sequences, maxlen=25,padding='post')"
      ],
      "execution_count": 141,
      "outputs": []
    },
    {
      "cell_type": "code",
      "metadata": {
        "id": "5BQ-rOtIpdzf"
      },
      "source": [
        "sentiment = data['is_sarcastic'].values #extract values"
      ],
      "execution_count": 142,
      "outputs": []
    },
    {
      "cell_type": "code",
      "metadata": {
        "id": "52ZhtxJcnB0r"
      },
      "source": [
        "dimen = np.arange(lines_pad.shape[0]) #shuffle\n",
        "np.random.shuffle(dimen)\n",
        "lines_pad = lines_pad[dimen]\n",
        "sentiment = sentiment[dimen]"
      ],
      "execution_count": 144,
      "outputs": []
    },
    {
      "cell_type": "code",
      "metadata": {
        "id": "DrsVLHrQj1Z-"
      },
      "source": [
        "test_sample = int(0.2 * pad_sequences.shape[0])"
      ],
      "execution_count": 145,
      "outputs": []
    },
    {
      "cell_type": "code",
      "metadata": {
        "id": "vE1IVCu7nEUW"
      },
      "source": [
        "x_train = lines_pad[:-test_sample]\n",
        "y_train = sentiment[:-test_sample]\n",
        "x_test = lines_pad[-test_sample:]\n",
        "y_test = sentiment[-test_sample:]"
      ],
      "execution_count": 146,
      "outputs": []
    },
    {
      "cell_type": "code",
      "metadata": {
        "id": "0JJOMfVGr-Jf",
        "colab": {
          "base_uri": "https://localhost:8080/"
        },
        "outputId": "3e9e31a2-7f4a-4670-f06e-bb744a546fe6"
      },
      "source": [
        "print(f' x_train = {x_train.shape} y_train = {y_train.shape} x_test = {x_test.shape} y_test = {y_test.shape} ')"
      ],
      "execution_count": 147,
      "outputs": [
        {
          "output_type": "stream",
          "name": "stdout",
          "text": [
            " x_train = (17552, 25) y_train = (17552,) x_test = (11065, 25) y_test = (11065,) \n"
          ]
        }
      ]
    },
    {
      "cell_type": "code",
      "metadata": {
        "id": "20LpSfrclhWf"
      },
      "source": [
        ""
      ],
      "execution_count": 147,
      "outputs": []
    },
    {
      "cell_type": "code",
      "metadata": {
        "id": "1kmhDvPanTl0"
      },
      "source": [
        ""
      ],
      "execution_count": 147,
      "outputs": []
    },
    {
      "cell_type": "code",
      "metadata": {
        "id": "SPik3_N2p8VE"
      },
      "source": [
        "\n",
        "\n",
        "\n",
        "\n",
        "\n"
      ],
      "execution_count": 147,
      "outputs": []
    },
    {
      "cell_type": "code",
      "metadata": {
        "id": "ViNRMn6p0WLp"
      },
      "source": [
        ""
      ],
      "execution_count": 147,
      "outputs": []
    },
    {
      "cell_type": "code",
      "metadata": {
        "id": "65mgSFLv0lzk"
      },
      "source": [
        ""
      ],
      "execution_count": 147,
      "outputs": []
    },
    {
      "cell_type": "code",
      "metadata": {
        "id": "gt0wLmVh30sG"
      },
      "source": [
        ""
      ],
      "execution_count": 147,
      "outputs": []
    },
    {
      "cell_type": "code",
      "metadata": {
        "id": "d4Gg1s2m9sT6"
      },
      "source": [
        ""
      ],
      "execution_count": 147,
      "outputs": []
    },
    {
      "cell_type": "code",
      "metadata": {
        "id": "hMJ9TyA99-Ht"
      },
      "source": [
        ""
      ],
      "execution_count": 147,
      "outputs": []
    },
    {
      "cell_type": "code",
      "metadata": {
        "id": "ahCFRBpYmbxW"
      },
      "source": [
        ""
      ],
      "execution_count": 147,
      "outputs": []
    },
    {
      "cell_type": "code",
      "metadata": {
        "id": "u7YEbfFmqkTH"
      },
      "source": [
        ""
      ],
      "execution_count": 147,
      "outputs": []
    },
    {
      "cell_type": "code",
      "metadata": {
        "id": "2PAvulbBqCBd"
      },
      "source": [
        ""
      ],
      "execution_count": 147,
      "outputs": []
    },
    {
      "cell_type": "code",
      "metadata": {
        "id": "fWQLiGBHqiWc"
      },
      "source": [
        ""
      ],
      "execution_count": 147,
      "outputs": []
    },
    {
      "cell_type": "code",
      "metadata": {
        "id": "lNcqJUdUsPOQ"
      },
      "source": [
        ""
      ],
      "execution_count": 147,
      "outputs": []
    },
    {
      "cell_type": "code",
      "metadata": {
        "id": "ttC49qKdw4GV"
      },
      "source": [
        ""
      ],
      "execution_count": 147,
      "outputs": []
    },
    {
      "cell_type": "code",
      "metadata": {
        "id": "0uwIZa9lxilD"
      },
      "source": [
        ""
      ],
      "execution_count": null,
      "outputs": []
    }
  ]
}